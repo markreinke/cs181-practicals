{
 "cells": [
  {
   "cell_type": "code",
   "execution_count": 3,
   "metadata": {
    "collapsed": true
   },
   "outputs": [],
   "source": [
    "import numpy as np\n",
    "import numpy.random as npr\n",
    "\n",
    "from SwingyMonkey import SwingyMonkey\n",
    "import matplotlib.pyplot as plt\n",
    "%matplotlib inline\n",
    "from collections import defaultdict"
   ]
  },
  {
   "cell_type": "code",
   "execution_count": 4,
   "metadata": {
    "collapsed": false
   },
   "outputs": [],
   "source": [
    "class QLearner(object):\n",
    "    '''\n",
    "    This agent jumps randomly.\n",
    "    '''\n",
    "\n",
    "    def __init__(self, alpha, gamma):\n",
    "        self.last_state    = None\n",
    "        self.last_action   = None\n",
    "        self.last_reward   = None\n",
    "        self.total         = 0 \n",
    "        self.height = 400 \n",
    "        self.alpha = alpha\n",
    "        self.gamma = gamma\n",
    "        self.Q                   = defaultdict(lambda: [0,0])\n",
    "        self.state_action_counts = defaultdict(lambda: [0,0])\n",
    "        self.iteration = 1\n",
    "\n",
    "    def reset(self):\n",
    "        self.iteration += 1\n",
    "        self.last_state  = None\n",
    "        self.last_action = None\n",
    "        self.last_reward = None\n",
    "    \n",
    "    def convert_state(self, state):\n",
    "        binsize = 50\n",
    "        dist_thresh    = 50\n",
    "        speed_thresh   = 0\n",
    "        \n",
    "        monkey_tree_top_dist = (state['monkey']['top'] - state['tree']['top']) / binsize   \n",
    "        #monkey_tree_bot_dist = (state['monkey']['bot'] - state['tree']['bot'])/ binsize\n",
    "\n",
    "        monkey_near_top      = (self.height - state['monkey']['top']) < dist_thresh\n",
    "        monkey_near_bottom   = state['monkey']['bot']                 < dist_thresh\n",
    "        monkey_near_tree     = state['tree']['dist']                  < dist_thresh\n",
    "        monkey_fast          = state['monkey']['vel']                 > speed_thresh\n",
    "        return (monkey_near_top, monkey_near_bottom, monkey_near_tree, monkey_fast, monkey_tree_top_dist)\n",
    "    \n",
    "    def update_Q(self, state, action):\n",
    "        last_state_key    = self.convert_state(self.last_state)\n",
    "        current_state_key = self.convert_state(state)\n",
    "\n",
    "        max_q = max(self.Q[current_state_key])\n",
    "        self.Q[last_state_key][action] += self.compute_q(last_state_key, action, max_q)\n",
    "    \n",
    "    def compute_q(self, state_key, action, max_q):\n",
    "        return (self.alpha / self.state_action_counts[state_key][action]) \\\n",
    "                                                * (self.last_reward \\\n",
    "                                                + self.gamma * max_q \\\n",
    "                                                - self.Q[state_key][action])\n",
    "        \n",
    "        \n",
    "    def action_callback(self, state):\n",
    "        # first time we don't update\n",
    "        if self.last_state:\n",
    "            self.update_Q(state, self.last_action)\n",
    "        state_key = self.convert_state(state)\n",
    "        # ϵ Greedy\n",
    "        # it is common to take ϵ = 1/t\n",
    "        epsilon = 1.0  / self.iteration\n",
    "        # take a random action with probability epsilon\n",
    "        if npr.random() < epsilon:\n",
    "            new_action = npr.randint(0, 1)\n",
    "        else:\n",
    "            max_q  = max(self.Q[state_key])\n",
    "            new_action =  self.Q[state_key].index(max_q)\n",
    "        self.state_action_counts[state_key][new_action] += 1\n",
    "\n",
    "        self.last_action = new_action\n",
    "        self.last_state  = state\n",
    "\n",
    "        return self.last_action\n",
    "\n",
    "    def reward_callback(self, reward):\n",
    "        self.last_reward = reward\n",
    "        self.total = self.total + reward"
   ]
  },
  {
   "cell_type": "code",
   "execution_count": 1,
   "metadata": {
    "collapsed": false
   },
   "outputs": [],
   "source": [
    "def run_games(learner, hist, iters = 50, t_len = 1):\n",
    "    '''\n",
    "    Driver function to simulate learning by having the agent play a sequence of games.\n",
    "    '''\n",
    "    \n",
    "    for ii in range(iters):\n",
    "        # Make a new monkey object.\n",
    "        swing = SwingyMonkey(sound=False,                  # Don't play sounds.\n",
    "                             text=\"Epoch %d\" % (ii),       # Display the epoch on screen.\n",
    "                             tick_length = t_len,          # Make game ticks super fast.\n",
    "                             action_callback=learner.action_callback,\n",
    "                             reward_callback=learner.reward_callback)\n",
    "\n",
    "        # Loop until you hit something.\n",
    "        while swing.game_loop():\n",
    "            if swing.score == 50:\n",
    "                break\n",
    "        # Save score history.\n",
    "        hist.append(swing.score)\n",
    "        # Reset the state of the learner.\n",
    "        learner.reset()\n",
    "        \n",
    "    return"
   ]
  },
  {
   "cell_type": "code",
   "execution_count": 2,
   "metadata": {
    "collapsed": true
   },
   "outputs": [],
   "source": [
    "def run(alpha, gamma):\n",
    "    agent = QLearner(alpha, gamma)\n",
    "    scores = []\n",
    "    run_games(agent, scores) \n",
    "    np.save('scores' + '_' + str(alpha) + '_' + str(gamma), np.array(scores))\n",
    "    return scores"
   ]
  },
  {
   "cell_type": "code",
   "execution_count": 65,
   "metadata": {
    "collapsed": false
   },
   "outputs": [],
   "source": [
    "scores = run(0.75, 0.75)"
   ]
  },
  {
   "cell_type": "code",
   "execution_count": 66,
   "metadata": {
    "collapsed": false
   },
   "outputs": [
    {
     "data": {
      "text/plain": [
       "102"
      ]
     },
     "execution_count": 66,
     "metadata": {},
     "output_type": "execute_result"
    }
   ],
   "source": [
    "sum(scores)"
   ]
  },
  {
   "cell_type": "markdown",
   "metadata": {},
   "source": [
    "### GridSearch"
   ]
  },
  {
   "cell_type": "code",
   "execution_count": 5,
   "metadata": {
    "collapsed": false
   },
   "outputs": [],
   "source": [
    "all_scores = dict()\n",
    "alphas = [0.25, 0.5, 0.75]\n",
    "gammas = [0.25, 0.5, 0.75]\n",
    "for alpha in alphas:\n",
    "    for gamma in gammas:\n",
    "        scores = run(alpha, gamma)\n",
    "        all_scores[(alpha, gamma)] = scores"
   ]
  },
  {
   "cell_type": "code",
   "execution_count": 6,
   "metadata": {
    "collapsed": false
   },
   "outputs": [],
   "source": [
    "import pandas as pd\n",
    "score_df = pd.DataFrame(columns=['alpha','gamma','total','iter_top'])\n",
    "for i,(k,v) in enumerate(all_scores.iteritems()):\n",
    "    alpha = k[0]\n",
    "    gamma = k[1]\n",
    "    total =  sum(v)\n",
    "    iter_top =  v.index(max(v))\n",
    "    score_df.loc[i] = (alpha, gamma, total, iter_top)"
   ]
  },
  {
   "cell_type": "code",
   "execution_count": 7,
   "metadata": {
    "collapsed": false
   },
   "outputs": [],
   "source": [
    "score_df = score_df.sort_values('total', ascending=False)\n",
    "score_df.to_csv('score_df2')"
   ]
  },
  {
   "cell_type": "code",
   "execution_count": 8,
   "metadata": {
    "collapsed": false
   },
   "outputs": [
    {
     "data": {
      "text/html": [
       "<div>\n",
       "<table border=\"1\" class=\"dataframe\">\n",
       "  <thead>\n",
       "    <tr style=\"text-align: right;\">\n",
       "      <th></th>\n",
       "      <th>alpha</th>\n",
       "      <th>gamma</th>\n",
       "      <th>total</th>\n",
       "      <th>iter_top</th>\n",
       "    </tr>\n",
       "  </thead>\n",
       "  <tbody>\n",
       "    <tr>\n",
       "      <th>7</th>\n",
       "      <td>0.25</td>\n",
       "      <td>0.75</td>\n",
       "      <td>765</td>\n",
       "      <td>18</td>\n",
       "    </tr>\n",
       "    <tr>\n",
       "      <th>1</th>\n",
       "      <td>0.50</td>\n",
       "      <td>0.50</td>\n",
       "      <td>673</td>\n",
       "      <td>26</td>\n",
       "    </tr>\n",
       "    <tr>\n",
       "      <th>4</th>\n",
       "      <td>0.50</td>\n",
       "      <td>0.75</td>\n",
       "      <td>673</td>\n",
       "      <td>17</td>\n",
       "    </tr>\n",
       "    <tr>\n",
       "      <th>3</th>\n",
       "      <td>0.75</td>\n",
       "      <td>0.50</td>\n",
       "      <td>670</td>\n",
       "      <td>24</td>\n",
       "    </tr>\n",
       "    <tr>\n",
       "      <th>5</th>\n",
       "      <td>0.75</td>\n",
       "      <td>0.25</td>\n",
       "      <td>426</td>\n",
       "      <td>37</td>\n",
       "    </tr>\n",
       "    <tr>\n",
       "      <th>2</th>\n",
       "      <td>0.75</td>\n",
       "      <td>0.75</td>\n",
       "      <td>332</td>\n",
       "      <td>38</td>\n",
       "    </tr>\n",
       "    <tr>\n",
       "      <th>6</th>\n",
       "      <td>0.25</td>\n",
       "      <td>0.25</td>\n",
       "      <td>309</td>\n",
       "      <td>14</td>\n",
       "    </tr>\n",
       "    <tr>\n",
       "      <th>8</th>\n",
       "      <td>0.50</td>\n",
       "      <td>0.25</td>\n",
       "      <td>192</td>\n",
       "      <td>19</td>\n",
       "    </tr>\n",
       "    <tr>\n",
       "      <th>0</th>\n",
       "      <td>0.25</td>\n",
       "      <td>0.50</td>\n",
       "      <td>158</td>\n",
       "      <td>18</td>\n",
       "    </tr>\n",
       "  </tbody>\n",
       "</table>\n",
       "</div>"
      ],
      "text/plain": [
       "   alpha  gamma  total  iter_top\n",
       "7   0.25   0.75    765        18\n",
       "1   0.50   0.50    673        26\n",
       "4   0.50   0.75    673        17\n",
       "3   0.75   0.50    670        24\n",
       "5   0.75   0.25    426        37\n",
       "2   0.75   0.75    332        38\n",
       "6   0.25   0.25    309        14\n",
       "8   0.50   0.25    192        19\n",
       "0   0.25   0.50    158        18"
      ]
     },
     "execution_count": 8,
     "metadata": {},
     "output_type": "execute_result"
    }
   ],
   "source": [
    "score_df"
   ]
  },
  {
   "cell_type": "code",
   "execution_count": null,
   "metadata": {
    "collapsed": true
   },
   "outputs": [],
   "source": []
  }
 ],
 "metadata": {
  "kernelspec": {
   "display_name": "Python 2",
   "language": "python",
   "name": "python2"
  },
  "language_info": {
   "codemirror_mode": {
    "name": "ipython",
    "version": 2
   },
   "file_extension": ".py",
   "mimetype": "text/x-python",
   "name": "python",
   "nbconvert_exporter": "python",
   "pygments_lexer": "ipython2",
   "version": "2.7.11"
  }
 },
 "nbformat": 4,
 "nbformat_minor": 0
}
